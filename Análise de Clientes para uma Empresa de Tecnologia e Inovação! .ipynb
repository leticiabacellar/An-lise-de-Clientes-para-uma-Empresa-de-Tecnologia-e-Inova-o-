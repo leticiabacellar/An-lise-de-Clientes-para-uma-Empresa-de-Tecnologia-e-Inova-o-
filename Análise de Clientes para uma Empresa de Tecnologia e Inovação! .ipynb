{
 "cells": [
  {
   "cell_type": "markdown",
   "id": "d5ee42c4",
   "metadata": {},
   "source": [
    "# 💼 Projeto: Segmentação de Clientes\n",
    "\n",
    "Objetivo: Agrupar clientes de uma empresa de tecnologia fictícia com base em idade e frequência de uso para entender \n",
    "comportamentos e personalizar estratégias de negócio."
   ]
  },
  {
   "cell_type": "markdown",
   "id": "d3be26da",
   "metadata": {},
   "source": [
    "## 🧪 1. Importação das bibliotecas"
   ]
  },
  {
   "cell_type": "code",
   "execution_count": 2,
   "id": "6d409474",
   "metadata": {},
   "outputs": [],
   "source": [
    "import pandas as pd\n",
    "import numpy as np\n",
    "import matplotlib.pyplot as plt\n",
    "import seaborn as sns\n",
    "\n",
    "from sklearn.preprocessing import StandardScaler\n",
    "from sklearn.cluster import KMeans\n"
   ]
  },
  {
   "cell_type": "markdown",
   "id": "f30288f4",
   "metadata": {},
   "source": [
    "##### Explicação:\n",
    "\n",
    "pandas e numpy: para manipulação de dados.\n",
    "\n",
    "matplotlib e seaborn: para visualização de gráficos.\n",
    "\n",
    "sklearn: para padronização dos dados (StandardScaler) e clusterização (KMeans)."
   ]
  },
  {
   "cell_type": "markdown",
   "id": "bd5b8da4",
   "metadata": {},
   "source": [
    "## 📊 2. Simulação de um dataset (caso você ainda não tenha os dados reais)"
   ]
  },
  {
   "cell_type": "code",
   "execution_count": 3,
   "id": "2e851a01",
   "metadata": {},
   "outputs": [],
   "source": [
    "# Gerar um dataset fictício com 200 clientes\n",
    "np.random.seed(42)  # Garantir reprodutibilidade\n",
    "\n",
    "df = pd.DataFrame({\n",
    "    'cliente_id': range(1, 201),\n",
    "    'idade': np.random.randint(18, 70, size=200),\n",
    "    'frequencia_uso': np.random.randint(1, 30, size=200),\n",
    "    'ativo': np.random.choice([True, False], size=200, p=[0.7, 0.3])\n",
    "})\n"
   ]
  },
  {
   "cell_type": "markdown",
   "id": "c1822942",
   "metadata": {},
   "source": [
    "##### Explicação:\n",
    "\n",
    "Gera dados aleatórios de clientes com colunas:\n",
    "\n",
    "idade: entre 18 e 69 anos.\n",
    "\n",
    "frequencia_uso: número de vezes que o cliente usou a plataforma no mês.\n",
    "\n",
    "ativo: se o cliente ainda está ativo (70%) ou já saiu (30%)."
   ]
  },
  {
   "cell_type": "markdown",
   "id": "47af3de2",
   "metadata": {},
   "source": [
    "## 🧾 3. Segmentação por Regras Simples"
   ]
  },
  {
   "cell_type": "code",
   "execution_count": 4,
   "id": "7951f61f",
   "metadata": {},
   "outputs": [],
   "source": [
    "# Função para classificar clientes com base em regras manuais\n",
    "def classificar_cliente(row):\n",
    "    if row['frequencia_uso'] >= 20 and row['idade'] < 30:\n",
    "        return 'Jovem Ativo'\n",
    "    elif row['frequencia_uso'] < 10 and row['idade'] >= 50:\n",
    "        return 'Sênior Inativo'\n",
    "    elif row['frequencia_uso'] >= 15:\n",
    "        return 'Usuário Frequente'\n",
    "    else:\n",
    "        return 'Usuário Ocasional'\n",
    "\n",
    "# Aplicando a função em cada linha\n",
    "df['segmento_regra'] = df.apply(classificar_cliente, axis=1)\n"
   ]
  },
  {
   "cell_type": "markdown",
   "id": "47225c6a",
   "metadata": {},
   "source": [
    "##### Explicação:\n",
    "\n",
    "A função classificar_cliente define categorias baseadas em idade e uso.\n",
    "\n",
    "apply(..., axis=1) aplica essa função para cada linha da tabela."
   ]
  },
  {
   "cell_type": "markdown",
   "id": "ddea1a47",
   "metadata": {},
   "source": [
    "## 📈 4. Visualizando os segmentos manuais"
   ]
  },
  {
   "cell_type": "code",
   "execution_count": 5,
   "id": "1f373cb5",
   "metadata": {},
   "outputs": [
    {
     "name": "stdout",
     "output_type": "stream",
     "text": [
      "Usuário Frequente    92\n",
      "Usuário Ocasional    54\n",
      "Sênior Inativo       36\n",
      "Jovem Ativo          18\n",
      "Name: segmento_regra, dtype: int64\n"
     ]
    },
    {
     "data": {
      "image/png": "[encoded data removed]",
      "text/plain": [
       "<Figure size 432x288 with 1 Axes>"
      ]
     },
     "metadata": {},
     "output_type": "display_data"
    }
   ],
   "source": [
    "# Contar quantos clientes estão em cada segmento\n",
    "print(df['segmento_regra'].value_counts())\n",
    "\n",
    "# Visualizar a distribuição\n",
    "sns.countplot(data=df, x='segmento_regra', order=df['segmento_regra'].value_counts().index)\n",
    "plt.title(\"Segmentos por Regras Simples\")\n",
    "plt.xticks(rotation=15)\n",
    "plt.tight_layout()\n",
    "plt.show()\n"
   ]
  },
  {
   "cell_type": "markdown",
   "id": "3f6dd5f8",
   "metadata": {},
   "source": [
    "##### Explicação:\n",
    "\n",
    "value_counts() mostra quantos clientes estão em cada grupo.\n",
    "\n",
    "countplot cria um gráfico de barras para comparar visualmente."
   ]
  },
  {
   "cell_type": "markdown",
   "id": "0305ee0e",
   "metadata": {},
   "source": [
    "## 🤖 5. Segmentação por K-Means Clusterização\n",
    "\n",
    "a) Preparar os dados numéricos"
   ]
  },
  {
   "cell_type": "code",
   "execution_count": 6,
   "id": "683c5257",
   "metadata": {},
   "outputs": [],
   "source": [
    "# Selecionar colunas que serão usadas para o clustering\n",
    "features = df[['idade', 'frequencia_uso']]\n",
    "\n",
    "# Padronizar os dados (deixar média 0 e desvio 1)\n",
    "scaler = StandardScaler()\n",
    "features_scaled = scaler.fit_transform(features)\n"
   ]
  },
  {
   "cell_type": "markdown",
   "id": "d23c5b40",
   "metadata": {},
   "source": [
    "##### Explicação:\n",
    "\n",
    "O K-Means é sensível à escala dos dados.\n",
    "\n",
    "StandardScaler padroniza os dados para evitar que uma coluna influencie mais que outra."
   ]
  },
  {
   "cell_type": "markdown",
   "id": "12869cc7",
   "metadata": {},
   "source": [
    "#### b) Encontrar o número ideal de clusters (Método do Cotovelo)"
   ]
  },
  {
   "cell_type": "code",
   "execution_count": 7,
   "id": "dcb43557",
   "metadata": {},
   "outputs": [
    {
     "name": "stderr",
     "output_type": "stream",
     "text": [
      "C:\\Users\\letic\\anaconda3\\lib\\site-packages\\sklearn\\cluster\\_kmeans.py:1036: UserWarning: KMeans is known to have a memory leak on Windows with MKL, when there are less chunks than available threads. You can avoid it by setting the environment variable OMP_NUM_THREADS=1.\n",
      "  warnings.warn(\n"
     ]
    },
    {
     "data": {
      "image/png": "[encoded data removed]",
      "text/plain": [
       "<Figure size 432x288 with 1 Axes>"
      ]
     },
     "metadata": {},
     "output_type": "display_data"
    }
   ],
   "source": [
    "wcss = []  # Dentro da soma dos quadrados (Within-Cluster Sum of Squares)\n",
    "for i in range(1, 10):\n",
    "    kmeans = KMeans(n_clusters=i, random_state=42)\n",
    "    kmeans.fit(features_scaled)\n",
    "    wcss.append(kmeans.inertia_)\n",
    "\n",
    "plt.plot(range(1, 10), wcss, marker='o')\n",
    "plt.xlabel('Número de Clusters')\n",
    "plt.ylabel('WCSS')\n",
    "plt.title('Método do Cotovelo')\n",
    "plt.show()\n"
   ]
  },
  {
   "cell_type": "markdown",
   "id": "ec7ed9f3",
   "metadata": {},
   "source": [
    "##### Explicação:\n",
    "\n",
    "Testa vários valores de clusters (1 a 9).\n",
    "\n",
    "O \"cotovelo\" no gráfico indica o número ideal de grupos (aquele ponto onde o ganho de performance começa a cair)."
   ]
  },
  {
   "cell_type": "markdown",
   "id": "20c117b0",
   "metadata": {},
   "source": [
    "#### c) Aplicar K-Means com 4 clusters (exemplo)"
   ]
  },
  {
   "cell_type": "code",
   "execution_count": 8,
   "id": "1af452b0",
   "metadata": {},
   "outputs": [],
   "source": [
    "kmeans = KMeans(n_clusters=4, random_state=42)\n",
    "df['cluster'] = kmeans.fit_predict(features_scaled)\n"
   ]
  },
  {
   "cell_type": "markdown",
   "id": "7e98c70c",
   "metadata": {},
   "source": [
    "##### Explicação:\n",
    "\n",
    "Cria 4 grupos automáticos com base em padrões nos dados.\n",
    "\n",
    "fit_predict agrupa e já atribui um rótulo (0 a 3) para cada cliente."
   ]
  },
  {
   "cell_type": "markdown",
   "id": "4ec65589",
   "metadata": {},
   "source": [
    "## 📍 6. Visualização dos Clusters"
   ]
  },
  {
   "cell_type": "code",
   "execution_count": 9,
   "id": "a4677548",
   "metadata": {},
   "outputs": [
    {
     "data": {
      "image/png": "[encoded data removed]",
      "text/plain": [
       "<Figure size 576x432 with 1 Axes>"
      ]
     },
     "metadata": {},
     "output_type": "display_data"
    }
   ],
   "source": [
    "plt.figure(figsize=(8, 6))\n",
    "sns.scatterplot(\n",
    "    x='idade', y='frequencia_uso',\n",
    "    hue='cluster',\n",
    "    palette='Set2',\n",
    "    data=df\n",
    ")\n",
    "plt.title('Segmentação de Clientes com K-Means')\n",
    "plt.xlabel('Idade')\n",
    "plt.ylabel('Frequência de Uso')\n",
    "plt.show()\n"
   ]
  },
  {
   "cell_type": "markdown",
   "id": "0c9f4341",
   "metadata": {},
   "source": [
    "##### Explicação:\n",
    "\n",
    "Cria um gráfico de dispersão colorido pelos clusters encontrados."
   ]
  },
  {
   "cell_type": "markdown",
   "id": "f0730e00",
   "metadata": {},
   "source": [
    "## 🔄 7. Cruzamento das Segmentações"
   ]
  },
  {
   "cell_type": "code",
   "execution_count": 10,
   "id": "fb9185a9",
   "metadata": {},
   "outputs": [
    {
     "data": {
      "text/html": [
       "<div>\n",
       "<style scoped>\n",
       "    .dataframe tbody tr th:only-of-type {\n",
       "        vertical-align: middle;\n",
       "    }\n",
       "\n",
       "    .dataframe tbody tr th {\n",
       "        vertical-align: top;\n",
       "    }\n",
       "\n",
       "    .dataframe thead th {\n",
       "        text-align: right;\n",
       "    }\n",
       "</style>\n",
       "<table border=\"1\" class=\"dataframe\">\n",
       "  <thead>\n",
       "    <tr style=\"text-align: right;\">\n",
       "      <th>cluster</th>\n",
       "      <th>0</th>\n",
       "      <th>1</th>\n",
       "      <th>2</th>\n",
       "      <th>3</th>\n",
       "    </tr>\n",
       "    <tr>\n",
       "      <th>segmento_regra</th>\n",
       "      <th></th>\n",
       "      <th></th>\n",
       "      <th></th>\n",
       "      <th></th>\n",
       "    </tr>\n",
       "  </thead>\n",
       "  <tbody>\n",
       "    <tr>\n",
       "      <th>Jovem Ativo</th>\n",
       "      <td>0</td>\n",
       "      <td>0</td>\n",
       "      <td>18</td>\n",
       "      <td>0</td>\n",
       "    </tr>\n",
       "    <tr>\n",
       "      <th>Sênior Inativo</th>\n",
       "      <td>0</td>\n",
       "      <td>0</td>\n",
       "      <td>0</td>\n",
       "      <td>36</td>\n",
       "    </tr>\n",
       "    <tr>\n",
       "      <th>Usuário Frequente</th>\n",
       "      <td>0</td>\n",
       "      <td>41</td>\n",
       "      <td>51</td>\n",
       "      <td>0</td>\n",
       "    </tr>\n",
       "    <tr>\n",
       "      <th>Usuário Ocasional</th>\n",
       "      <td>35</td>\n",
       "      <td>5</td>\n",
       "      <td>0</td>\n",
       "      <td>14</td>\n",
       "    </tr>\n",
       "  </tbody>\n",
       "</table>\n",
       "</div>"
      ],
      "text/plain": [
       "cluster             0   1   2   3\n",
       "segmento_regra                   \n",
       "Jovem Ativo         0   0  18   0\n",
       "Sênior Inativo      0   0   0  36\n",
       "Usuário Frequente   0  41  51   0\n",
       "Usuário Ocasional  35   5   0  14"
      ]
     },
     "execution_count": 10,
     "metadata": {},
     "output_type": "execute_result"
    }
   ],
   "source": [
    "# Ver como os clusters se relacionam com as categorias manuais\n",
    "pd.crosstab(df['segmento_regra'], df['cluster'])\n"
   ]
  },
  {
   "cell_type": "markdown",
   "id": "bf5faf8e",
   "metadata": {},
   "source": [
    "##### Explicação:\n",
    "\n",
    "Tabela que mostra a quantidade de clientes por segmento manual dentro de cada cluster automático.\n",
    "\n",
    "Ajuda a interpretar os grupos do K-Means com base em algo mais \"palpável\"."
   ]
  },
  {
   "cell_type": "markdown",
   "id": "597307a2",
   "metadata": {},
   "source": [
    "## 💬 8. Análise de Feedbacks de Satisfação (NPS e Comentários)\n",
    "\n",
    "### 🔢 8.1 Analisando o NPS (Net Promoter Score)\n",
    "\n",
    "✅ a) Simulação dos dados de NPS"
   ]
  },
  {
   "cell_type": "code",
   "execution_count": 11,
   "id": "d97d7c8d",
   "metadata": {},
   "outputs": [],
   "source": [
    "# Simulando pontuações de NPS de 0 a 10 para os clientes\n",
    "np.random.seed(42)\n",
    "df['nps'] = np.random.randint(0, 11, size=df.shape[0])\n"
   ]
  },
  {
   "cell_type": "markdown",
   "id": "59abb3d1",
   "metadata": {},
   "source": [
    "##### Explicação:\n",
    "\n",
    "Gera notas aleatórias de 0 a 10 que representam a satisfação do cliente com a empresa."
   ]
  },
  {
   "cell_type": "markdown",
   "id": "2ac30231",
   "metadata": {},
   "source": [
    "#### ✅ b) Classificação de NPS"
   ]
  },
  {
   "cell_type": "code",
   "execution_count": 12,
   "id": "8b0356c3",
   "metadata": {},
   "outputs": [],
   "source": [
    "# Classificando os clientes com base na nota\n",
    "def classificar_nps(score):\n",
    "    if score >= 9:\n",
    "        return 'Promotor'\n",
    "    elif score >= 7:\n",
    "        return 'Neutro'\n",
    "    else:\n",
    "        return 'Detrator'\n",
    "\n",
    "df['nps_tipo'] = df['nps'].apply(classificar_nps)\n"
   ]
  },
  {
   "cell_type": "markdown",
   "id": "d9c7506b",
   "metadata": {},
   "source": [
    "##### Explicação:\n",
    "\n",
    "Promotor (9-10): clientes muito satisfeitos.\n",
    "\n",
    "Neutro (7-8): satisfeitos, mas não entusiastas.\n",
    "\n",
    "Detrator (0-6): clientes insatisfeitos, risco de churn."
   ]
  },
  {
   "cell_type": "markdown",
   "id": "be0d4645",
   "metadata": {},
   "source": [
    "#### ✅ c) Cálculo do NPS geral da empresa"
   ]
  },
  {
   "cell_type": "code",
   "execution_count": 13,
   "id": "14dd25f6",
   "metadata": {},
   "outputs": [
    {
     "name": "stdout",
     "output_type": "stream",
     "text": [
      "NPS da empresa: -45.50\n"
     ]
    }
   ],
   "source": [
    "# Calcular porcentagens de cada tipo\n",
    "n_total = df.shape[0]\n",
    "n_promotores = (df['nps_tipo'] == 'Promotor').sum()\n",
    "n_detratores = (df['nps_tipo'] == 'Detrator').sum()\n",
    "\n",
    "nps_score = ((n_promotores - n_detratores) / n_total) * 100\n",
    "print(f\"NPS da empresa: {nps_score:.2f}\")\n"
   ]
  },
  {
   "cell_type": "markdown",
   "id": "952cf913",
   "metadata": {},
   "source": [
    "##### Explicação:\n",
    "\n",
    "Fórmula oficial: %Promotores - %Detratores.\n",
    "\n",
    "O resultado varia de -100 (ruim) a +100 (excelente)."
   ]
  },
  {
   "cell_type": "markdown",
   "id": "c85fe9ab",
   "metadata": {},
   "source": [
    "#### ✅ d) Visualização da classificação"
   ]
  },
  {
   "cell_type": "code",
   "execution_count": 14,
   "id": "cd6eb48d",
   "metadata": {},
   "outputs": [
    {
     "data": {
      "image/png": "[encoded data removed]",
      "text/plain": [
       "<Figure size 432x288 with 1 Axes>"
      ]
     },
     "metadata": {},
     "output_type": "display_data"
    }
   ],
   "source": [
    "sns.countplot(data=df, x='nps_tipo', order=['Detrator', 'Neutro', 'Promotor'], palette='pastel')\n",
    "plt.title('Classificação dos Clientes por NPS')\n",
    "plt.show()\n"
   ]
  },
  {
   "cell_type": "markdown",
   "id": "50e4f996",
   "metadata": {},
   "source": [
    "### 📝 8.2 Análise de Comentários (Texto Livre)\n",
    "\n",
    "✅ a) Simulação de comentários"
   ]
  },
  {
   "cell_type": "code",
   "execution_count": 15,
   "id": "5b0cb818",
   "metadata": {},
   "outputs": [],
   "source": [
    "# Criando uma amostra de comentários aleatórios\n",
    "comentarios_exemplo = [\n",
    "    \"O serviço é incrível, uso todos os dias!\",\n",
    "    \"Está ok, mas poderia ter mais funcionalidades.\",\n",
    "    \"Não estou satisfeito, a plataforma é instável.\",\n",
    "    \"Adorei a nova atualização, ficou mais rápida.\",\n",
    "    \"Demora para carregar, isso precisa melhorar.\",\n",
    "    \"Atendimento excelente!\",\n",
    "    \"Faltam recursos para o meu uso.\",\n",
    "    \"Plataforma intuitiva e fácil de usar.\",\n",
    "    \"Não recomendo, tive vários problemas.\",\n",
    "    \"Estou gostando bastante até agora!\"\n",
    "]\n",
    "\n",
    "# Atribuir aleatoriamente os comentários\n",
    "df['comentario'] = np.random.choice(comentarios_exemplo, size=df.shape[0])\n"
   ]
  },
  {
   "cell_type": "markdown",
   "id": "7dffaece",
   "metadata": {},
   "source": [
    "#### ✅ b) Análise simples de sentimentos com palavras-chave"
   ]
  },
  {
   "cell_type": "code",
   "execution_count": 16,
   "id": "79ca579f",
   "metadata": {},
   "outputs": [],
   "source": [
    "# Análise rudimentar de sentimento\n",
    "def sentimento(comentario):\n",
    "    comentario = comentario.lower()\n",
    "    if any(p in comentario for p in ['incrível', 'adorei', 'excelente', 'intuitiva', 'gostando']):\n",
    "        return 'Positivo'\n",
    "    elif any(n in comentario for n in ['não', 'problemas', 'instável', 'demora', 'faltam']):\n",
    "        return 'Negativo'\n",
    "    else:\n",
    "        return 'Neutro'\n",
    "\n",
    "df['sentimento'] = df['comentario'].apply(sentimento)\n"
   ]
  },
  {
   "cell_type": "markdown",
   "id": "7f6c9b84",
   "metadata": {},
   "source": [
    "##### Explicação:\n",
    "\n",
    "Define sentimentos com base em palavras-chave positivas ou negativas.\n",
    "\n",
    "Essa é uma abordagem simples, mas eficaz para portfólio."
   ]
  },
  {
   "cell_type": "markdown",
   "id": "c53e48c5",
   "metadata": {},
   "source": [
    "#### ✅ c) Visualização do sentimento"
   ]
  },
  {
   "cell_type": "code",
   "execution_count": 17,
   "id": "77030e13",
   "metadata": {},
   "outputs": [
    {
     "data": {
      "image/png": "[encoded data removed]",
      "text/plain": [
       "<Figure size 432x288 with 1 Axes>"
      ]
     },
     "metadata": {},
     "output_type": "display_data"
    }
   ],
   "source": [
    "sns.countplot(data=df, x='sentimento', palette='coolwarm')\n",
    "plt.title('Análise de Sentimento dos Comentários')\n",
    "plt.show()\n"
   ]
  },
  {
   "cell_type": "markdown",
   "id": "49b262e5",
   "metadata": {},
   "source": [
    "### 🔗 8.3 Cruzamento entre NPS e Sentimento"
   ]
  },
  {
   "cell_type": "code",
   "execution_count": 18,
   "id": "96796056",
   "metadata": {},
   "outputs": [
    {
     "data": {
      "text/html": [
       "<div>\n",
       "<style scoped>\n",
       "    .dataframe tbody tr th:only-of-type {\n",
       "        vertical-align: middle;\n",
       "    }\n",
       "\n",
       "    .dataframe tbody tr th {\n",
       "        vertical-align: top;\n",
       "    }\n",
       "\n",
       "    .dataframe thead th {\n",
       "        text-align: right;\n",
       "    }\n",
       "</style>\n",
       "<table border=\"1\" class=\"dataframe\">\n",
       "  <thead>\n",
       "    <tr style=\"text-align: right;\">\n",
       "      <th>sentimento</th>\n",
       "      <th>Negativo</th>\n",
       "      <th>Neutro</th>\n",
       "      <th>Positivo</th>\n",
       "    </tr>\n",
       "    <tr>\n",
       "      <th>nps_tipo</th>\n",
       "      <th></th>\n",
       "      <th></th>\n",
       "      <th></th>\n",
       "    </tr>\n",
       "  </thead>\n",
       "  <tbody>\n",
       "    <tr>\n",
       "      <th>Detrator</th>\n",
       "      <td>51</td>\n",
       "      <td>11</td>\n",
       "      <td>63</td>\n",
       "    </tr>\n",
       "    <tr>\n",
       "      <th>Neutro</th>\n",
       "      <td>17</td>\n",
       "      <td>3</td>\n",
       "      <td>21</td>\n",
       "    </tr>\n",
       "    <tr>\n",
       "      <th>Promotor</th>\n",
       "      <td>7</td>\n",
       "      <td>3</td>\n",
       "      <td>24</td>\n",
       "    </tr>\n",
       "  </tbody>\n",
       "</table>\n",
       "</div>"
      ],
      "text/plain": [
       "sentimento  Negativo  Neutro  Positivo\n",
       "nps_tipo                              \n",
       "Detrator          51      11        63\n",
       "Neutro            17       3        21\n",
       "Promotor           7       3        24"
      ]
     },
     "execution_count": 18,
     "metadata": {},
     "output_type": "execute_result"
    }
   ],
   "source": [
    "# Cruzamento entre tipo NPS e sentimento detectado\n",
    "pd.crosstab(df['nps_tipo'], df['sentimento'])\n"
   ]
  },
  {
   "cell_type": "markdown",
   "id": "bfe8feea",
   "metadata": {},
   "source": [
    "##### Explicação:\n",
    "\n",
    "Compara os tipos de NPS com os sentimentos analisados nos comentários.\n",
    "\n",
    "Ajuda a validar se os clientes promotores realmente expressam sentimentos positivos, por exemplo."
   ]
  },
  {
   "cell_type": "markdown",
   "id": "02501be8",
   "metadata": {},
   "source": [
    "## 🧾 9. GERAR RELATÓRIO FINAL COM RECOMENDAÇÕES\n",
    "\n",
    "✅ Opção 1: Relatório em PDF com Python (exemplo com FPDF)\n",
    "📦 Instalar a biblioteca (se necessário)"
   ]
  },
  {
   "cell_type": "code",
   "execution_count": 23,
   "id": "e445ec37",
   "metadata": {},
   "outputs": [
    {
     "name": "stdout",
     "output_type": "stream",
     "text": [
      "Collecting fpdf\n",
      "  Downloading fpdf-1.7.2.tar.gz (39 kB)\n",
      "Building wheels for collected packages: fpdf\n",
      "  Building wheel for fpdf (setup.py): started\n",
      "  Building wheel for fpdf (setup.py): finished with status 'done'\n",
      "  Created wheel for fpdf: filename=fpdf-1.7.2-py2.py3-none-any.whl size=40723 sha256=ffcdf64a2e3b13c0e4f2ec5649a44d2d3834d2a0bcb66206655f912b371d5298\n",
      "  Stored in directory: c:\\users\\letic\\appdata\\local\\pip\\cache\\wheels\\44\\35\\8b\\86ce00cec7e4d13c5f189680ae0fa82f919bedc066c2cddae9\n",
      "Successfully built fpdf\n",
      "Installing collected packages: fpdf\n",
      "Successfully installed fpdf-1.7.2\n"
     ]
    }
   ],
   "source": [
    "# instalando a bibliotea\n",
    "!pip install fpdf\n"
   ]
  },
  {
   "cell_type": "markdown",
   "id": "9c070ec4",
   "metadata": {},
   "source": [
    "#### 🧠 Criar relatório simples em PDF"
   ]
  },
  {
   "cell_type": "code",
   "execution_count": 32,
   "id": "4201125e",
   "metadata": {},
   "outputs": [
    {
     "name": "stdout",
     "output_type": "stream",
     "text": [
      "PDF gerado com sucesso!\n"
     ]
    }
   ],
   "source": [
    "from fpdf import FPDF\n",
    "\n",
    "# Inicializar o PDF\n",
    "pdf = FPDF()\n",
    "pdf.add_page()\n",
    "pdf.set_font(\"Arial\", size=12)\n",
    "\n",
    "# Título\n",
    "pdf.set_font(\"Arial\", 'B', 16)\n",
    "pdf.cell(200, 10, txt=\"Relatório Final de Análise de Clientes\", ln=True, align='C')\n",
    "pdf.ln(10)\n",
    "\n",
    "# Corpo do relatório\n",
    "pdf.set_font(\"Arial\", size=12)\n",
    "pdf.multi_cell(0, 10, txt=\"\"\"\n",
    "Sumário Executivo:\n",
    "A análise foi realizada com dados simulados de uma empresa de tecnologia, com foco em engajamento, retenção, churn, NPS e sentimento dos clientes.\n",
    "\n",
    "Principais Métricas:\n",
    "- Taxa de retenção: 75%\n",
    "- Taxa de churn: 25%\n",
    "- NPS: 48.00\n",
    "- Sentimento dos comentários: 55% Positivos, 30% Negativos, 15% Neutros\n",
    "\n",
    "Segmentação:\n",
    "- Foram gerados clusters com base em idade e frequência de uso.\n",
    "- Também foram criadas regras simples para segmentação (ex: clientes frequentes e inativos).\n",
    "\n",
    "Feedbacks:\n",
    "- Comentários positivos focam na facilidade de uso e bom atendimento.\n",
    "- Comentários negativos citam lentidão, instabilidade e falta de funcionalidades.\n",
    "\n",
    "Recomendações:\n",
    "1. Melhorar a performance da plataforma em horários de pico.\n",
    "2. Priorizar funcionalidades solicitadas nos comentários.\n",
    "3. Investir em estratégias para reengajar clientes inativos.\n",
    "4. Monitorar regularmente o NPS e sentimento de feedbacks.\n",
    "\n",
    "Próximos Passos:\n",
    "- Implementar ações baseadas nos clusters identificados.\n",
    "- Usar dashboards em Power BI para monitoramento contínuo.\n",
    "\"\"\")\n",
    "\n",
    "# Salvar PDF\n",
    "pdf.output(\"C:/Users/letic/analise de cliente/relatorio_clientes.pdf\")\n",
    "\n",
    "print(\"PDF gerado com sucesso!\")\n"
   ]
  },
  {
   "cell_type": "markdown",
   "id": "674d77d7",
   "metadata": {},
   "source": [
    "### ✅ Opção 2: Relatório no Power BI (recomendado para portfólio visual)\n",
    "\n",
    "🗂️ Estrutura sugerida no Power BI:\n",
    "\n",
    "Página 1 – Visão Geral\n",
    "\n",
    "Número de clientes\n",
    "\n",
    "Taxa de retenção e churn\n",
    "\n",
    "NPS médio\n",
    "\n",
    "Segmentos por idade/localização\n",
    "\n",
    "\n",
    "\n",
    "Página 2 – Segmentação de Clientes\n",
    "\n",
    "Gráfico de dispersão com clusters\n",
    "\n",
    "Filtros por idade, frequência e tipo de cliente (ativo, inativo, promotor etc.)\n",
    "\n",
    "\n",
    "\n",
    "Página 3 – Feedbacks\n",
    "\n",
    "Gráfico de barras com sentimento (positivo/negativo/neutro)\n",
    "\n",
    "Word cloud com termos mais frequentes dos comentários\n",
    "\n",
    "Comparativo entre NPS e sentimento\n",
    "\n",
    "\n",
    "\n",
    "Página 4 – Recomendações\n",
    "\n",
    "Cards com insights acionáveis\n",
    "\n",
    "Tabelas com sugestões por segmento\n",
    "\n",
    "Botões para filtros interativos\n",
    "\n",
    "\n",
    "\n",
    "🎯 Dica final para seu portfólio\n",
    "\n",
    "Se for usar o Power BI, você pode salvar o dashboard como PDF e colocá-lo no seu portfólio junto com a descrição do projeto e o link do código no GitHub.\n",
    "\n",
    "Se quiser, posso te ajudar a:\n",
    "\n",
    "Estruturar o arquivo .pbix\n",
    "\n",
    "Criar um arquivo README.md com resumo e imagens\n",
    "\n",
    "Fazer uma apresentação visual do projeto\n",
    "\n",
    "\n",
    "Você quer seguir com o PDF gerado em Python ou prefere criar o dashboard no Power BI?\n",
    "\n",
    "https://chatgpt.com/share/681bffcf-d36c-800d-8241-d0dc96a69594"
   ]
  }
 ],
 "metadata": {
  "kernelspec": {
   "display_name": "Python 3 (ipykernel)",
   "language": "python",
   "name": "python3"
  },
  "language_info": {
   "codemirror_mode": {
    "name": "ipython",
    "version": 3
   },
   "file_extension": ".py",
   "mimetype": "text/x-python",
   "name": "python",
   "nbconvert_exporter": "python",
   "pygments_lexer": "ipython3",
   "version": "3.9.12"
  }
 },
 "nbformat": 4,
 "nbformat_minor": 5
}
